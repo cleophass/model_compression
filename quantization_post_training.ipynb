{
 "cells": [
  {
   "cell_type": "markdown",
   "metadata": {
    "id": "99vh_crd5H83"
   },
   "source": [
    "# 🔁 Quantization in Machine Learning: A Recap\n",
    "\n",
    "**Quantization** involves reducing the precision of the numerical values (parameters) used in a model, such as weights and biases.\n",
    "\n",
    "## ❓ What is Quantization?\n",
    "\n",
    "Most models are trained using 32-bit floating-point numbers (**FP32**).  \n",
    "Quantization replaces these high-precision values with lower-precision formats like 8-bit integers (**INT8**), significantly reducing the model's memory footprint and computational cost.\n",
    "\n",
    "---\n",
    "\n",
    "## 🧠 Conceptual Approaches to Quantization\n",
    "\n",
    "### 📌 Post-Training Quantization (PTQ)\n",
    "\n",
    "- Quantize a pre-trained model **without** re-training it.\n",
    "- Useful when using open-source models (e.g., on Hugging Face).\n",
    "- Simple and quick to implement.\n",
    "- May result in a **slight drop in accuracy**.\n",
    "\n",
    "### 🧠 Quantization-Aware Training (QAT)\n",
    "\n",
    "- Simulates quantization **during training**, allowing the model to adapt to reduced precision.\n",
    "- Often results in **better accuracy** than PTQ.\n",
    "- Requires access to the **training pipeline** and **dataset**.\n",
    "\n",
    "---\n",
    "\n",
    "## ⚙️ Practical Quantization Techniques\n",
    "\n",
    "### 🧩 Method 1: Dynamic Quantization (PyTorch)\n",
    "\n",
    "- Easy to implement.\n",
    "- Applied **after training**.\n",
    "- Works especially well for models with lots of linear layers (like transformers).\n",
    "- A good balance between performance gains and ease of use.\n",
    "\n",
    "### 🧪 Method 2: Advanced Quantization (Optimum + ONNX)\n",
    "\n",
    "- Uses Hugging Face's `optimum` library for **fine-grained**, hardware-optimized quantization.\n",
    "- Supports backends like **ONNX Runtime**, **Intel Neural Compressor**, etc.\n",
    "- Slightly more complex setup but offers deeper optimization.\n",
    "\n",
    "---\n",
    "\n",
    "## 💡 Use Case: Sentiment Analysis\n",
    "\n",
    "In this walkthrough, we’ll apply post-training quantization to a **sentiment classification** task (e.g., using BERT or DistilBERT).\n",
    "\n",
    "### 🤖 Why NLP Models Tolerate Quantization Better Than Vision Models\n",
    "\n",
    "- NLP models (like transformers) are **heavily linear-layer based**, making them more resilient to quantization without significant accuracy loss.\n",
    "- Vision models rely more on **convolutional layers** and fine-grained spatial information, where quantization can more easily degrade performance.\n",
    "\n",
    "---\n",
    "\n",
    "## 📌 Key Takeaways\n",
    "\n",
    "- **INT8 models** can be up to **4× smaller** than FP32 versions.\n",
    "- They can also **run faster** on compatible hardware (like Intel CPUs, NVIDIA TensorRT, etc.).\n"
   ]
  },
  {
   "cell_type": "markdown",
   "metadata": {
    "id": "L_J4xwExT9hi"
   },
   "source": [
    "# Import"
   ]
  },
  {
   "cell_type": "code",
   "execution_count": null,
   "metadata": {
    "id": "8bAg70YxRtjE"
   },
   "outputs": [],
   "source": [
    "!pip install datasets scikit-learn codecarbon matplotlib seaborn"
   ]
  },
  {
   "cell_type": "code",
   "execution_count": 1,
   "metadata": {
    "id": "8mBZaUoF18tl"
   },
   "outputs": [],
   "source": [
    "from transformers import AutoTokenizer, AutoModelForSequenceClassification\n",
    "import torch\n",
    "from torch.quantization import quantize_dynamic\n",
    "import torch.nn.functional as F\n",
    "from datasets import load_dataset\n",
    "from sklearn.metrics import accuracy_score, precision_recall_fscore_support, classification_report\n",
    "from codecarbon import EmissionsTracker\n",
    "import time\n",
    "import pandas as pd\n",
    "import numpy as np\n",
    "import matplotlib.pyplot as plt\n",
    "from tqdm import tqdm\n",
    "import os\n",
    "import seaborn as sns"
   ]
  },
  {
   "cell_type": "markdown",
   "metadata": {
    "id": "aM8MXvYZ7Jcx"
   },
   "source": [
    "# Experimentation"
   ]
  },
  {
   "cell_type": "markdown",
   "metadata": {
    "id": "FIPvK1xf7MZL"
   },
   "source": [
    "Before going any further, let's try the model. We are using distilbert-base-uncased-finetuned-sst-2-english, a finetuned version of DistilBERT, specifically trained on the SST-2 dataset for sentiment analysis in English."
   ]
  },
  {
   "cell_type": "code",
   "execution_count": null,
   "metadata": {
    "colab": {
     "base_uri": "https://localhost:8080/",
     "height": 304,
     "referenced_widgets": [
      "4684a48614b14bf980d9ec532790c38f",
      "1132eef1e4be49928079091b60913a58",
      "82633259647f4cb4b981cc9f088738ee",
      "24abfb008e6a44f98c6e3ff1a463b4b7",
      "1fe47ec4b62947f79667186aebfce199",
      "887be7e314ee46ba9c85c9e8a89536ca",
      "163790662ccf436facd31981ac5bdaf6",
      "82b5f9cde7c64c48bb4dd9a57b22ae63",
      "9421a8031ed24f0fa050c38a849116cf",
      "28b5c2aba64544faa00dbc7d4137db9a",
      "6dd501ed97324fd6868b297e610aeda8",
      "67d2a5f2ca3247e9a1b93bc24d425f4c",
      "5f57b09fcc8f4ecfb607d215eb11c0c1",
      "ad89a8fe2d274a05806f99aa645a13f1",
      "c4ebcdc0e86845df9eb197cccf8a49ca",
      "79d02d6292e14069a52be59a5d91b677",
      "b35031607819411e8ecc6a3b5da65dfa",
      "ff291df4cdf24c02a1d8536cce6ae440",
      "3a577a3801d44ba3ad2e8a682fdb95d4",
      "89b8c1deb5a147e48521612ac859065e",
      "cfc39ec28193415a8b23a31aba872b78",
      "daf1605086464501bf30e9283763432a",
      "099bfa309010487284540b6f7b748773",
      "53f72879ff5f4bb5a4f3e142f3fb96cb",
      "91d5a08cdef447e18a665ca9ea370673",
      "4e10cebe0e254bf8b0e59f7c8168566b",
      "ea4eff304c1c4f9795d2f886a06bf14b",
      "ce3033a1a2c84dd0850605afc5288d8e",
      "7e4e540139464511ac675bf9b6e3e68b",
      "5aa57a9fdb4148b7b6d719b50f9bf86e",
      "3b9a721864b04695b6e3795222685768",
      "b546bfb104a5464cbeeba1c482124ba2",
      "ed9f4a3f01cb48418ec45a0e404de0e3",
      "8e43bb71f83b4d7181cc7b1db2d6d936",
      "5c4b1e3c47dd4b2d918913337384a1b4",
      "4b675e8e67d14bf0b32671f2421905b6",
      "1d7a15c7e654486681824505be593da7",
      "4920c86448124605ac9712ebf61d040d",
      "48491b9b61ee4448bbeabe97e0034eb7",
      "113885b9c8904c02b1b13707572e3a58",
      "d68a0c64a4414e8ca88403ae33c3abc8",
      "e200a08d35fd46ea96aaa68e240e1c70",
      "5fb6144da15f4daabade3224d7191629",
      "110c632ec1284440a391e571681591dd"
     ]
    },
    "id": "kmMNepC600bf",
    "outputId": "6c1b0724-186d-4a94-c046-7ea0a8d6265c"
   },
   "outputs": [],
   "source": [
    "model_name =\"distilbert-base-uncased-finetuned-sst-2-english\"\n",
    "tokenizer = AutoTokenizer.from_pretrained(model_name)\n",
    "model = AutoModelForSequenceClassification.from_pretrained(model_name)"
   ]
  },
  {
   "cell_type": "code",
   "execution_count": 3,
   "metadata": {
    "colab": {
     "base_uri": "https://localhost:8080/"
    },
    "id": "sPI_dbEL2JGK",
    "outputId": "03eac04c-e777-42fa-a08c-21a992235ea0"
   },
   "outputs": [
    {
     "name": "stdout",
     "output_type": "stream",
     "text": [
      "tensor([[1.2351e-04, 9.9988e-01]], grad_fn=<SoftmaxBackward0>)\n",
      "tensor([1])\n"
     ]
    }
   ],
   "source": [
    "#test using base model\n",
    "inputs = tokenizer(\"I love this!\", return_tensors=\"pt\")\n",
    "outputs = model(**inputs)\n",
    "prediction=F.softmax(outputs.logits,dim=1)\n",
    "print(prediction)\n",
    "label = torch.argmax(prediction,dim=1)\n",
    "print(label)"
   ]
  },
  {
   "cell_type": "markdown",
   "metadata": {
    "id": "D2fuEEWN7nL7"
   },
   "source": [
    "# Quantization with PyTorch\n"
   ]
  },
  {
   "cell_type": "code",
   "execution_count": 4,
   "metadata": {
    "id": "AQ7nAlQc7r8g"
   },
   "outputs": [],
   "source": [
    "quantized_model = quantize_dynamic(\n",
    "    model,\n",
    "    {torch.nn.Linear},\n",
    "    dtype=torch.qint8\n",
    ")"
   ]
  },
  {
   "cell_type": "markdown",
   "metadata": {
    "id": "4B-vNlQ074Uu"
   },
   "source": [
    "Before we compare them on an evaluation dataset, let's check the model's performance."
   ]
  },
  {
   "cell_type": "code",
   "execution_count": 5,
   "metadata": {
    "colab": {
     "base_uri": "https://localhost:8080/"
    },
    "id": "PMuFs-Gd7wJ1",
    "outputId": "f08a91be-6e86-4062-896c-70e7958ed95b"
   },
   "outputs": [
    {
     "name": "stdout",
     "output_type": "stream",
     "text": [
      "tensor([[1.3575e-04, 9.9986e-01]], grad_fn=<SoftmaxBackward0>)\n",
      "tensor([1])\n"
     ]
    }
   ],
   "source": [
    "outputs = quantized_model(**inputs)\n",
    "prediction=F.softmax(outputs.logits,dim=1)\n",
    "print(prediction)\n",
    "label = torch.argmax(prediction,dim=1)\n",
    "print(label)"
   ]
  },
  {
   "cell_type": "markdown",
   "metadata": {
    "id": "AHvJ-8OM9k1Z"
   },
   "source": [
    "## Benchmark"
   ]
  },
  {
   "cell_type": "code",
   "execution_count": 6,
   "metadata": {
    "id": "5Xg9nJ3t-IWQ"
   },
   "outputs": [],
   "source": [
    "def benchmark_model(model,tokenizer,dataset,batch_size=32):\n",
    "  \"\"\"Evaluate model performance on given dataset\"\"\"\n",
    "  model.eval()\n",
    "\n",
    "  all_preds = []\n",
    "  all_labels = []\n",
    "  inference_times = [] #this will be used later to compare them\n",
    "  carbon_emissions = [] #This also will be used but by default we don't use\n",
    "\n",
    "  for i in tqdm(range(0, len(dataset), batch_size)):\n",
    "    batch = dataset[i:i+batch_size]\n",
    "    texts = batch['sentence']\n",
    "    labels = batch['label']\n",
    "\n",
    "    inputs = tokenizer(texts, padding=True, truncation=True, return_tensors=\"pt\")\n",
    "    start_time = time.time()\n",
    "    tracker = EmissionsTracker(save_to_file=False,log_level=\"off\")\n",
    "    tracker.start()\n",
    "    with torch.no_grad():\n",
    "      outputs = model(**inputs)\n",
    "    emissions = tracker.stop()\n",
    "    end_time = time.time()\n",
    "    carbon_emissions.append(emissions)\n",
    "    inference_times.append(end_time - start_time)\n",
    "\n",
    "    logits = outputs.logits\n",
    "    predictions = torch.argmax(logits, dim=1).cpu().numpy()\n",
    "\n",
    "    all_preds.extend(predictions)\n",
    "    all_labels.extend(labels)\n",
    "  accuracy = accuracy_score(all_labels, all_preds)\n",
    "  precision, recall, f1, _ = precision_recall_fscore_support(all_labels, all_preds, average='weighted')\n",
    "  avg_inference_time = sum(inference_times) / len(inference_times)\n",
    "  avg_carbon_emissions = sum(carbon_emissions) / len(carbon_emissions)\n",
    "  return {\n",
    "      'accuracy': accuracy,\n",
    "      'precision': precision,\n",
    "      'recall': recall,\n",
    "      'f1': f1,\n",
    "      'avg_inference_time': avg_inference_time,\n",
    "      'avg_carbon_emissions': avg_carbon_emissions\n",
    "  }"
   ]
  },
  {
   "cell_type": "code",
   "execution_count": null,
   "metadata": {
    "colab": {
     "base_uri": "https://localhost:8080/",
     "height": 241,
     "referenced_widgets": [
      "6aabb85046de4593bc53d4f7a4efb8f3",
      "92c640c0bba04fb2baf72f193d68f59c",
      "c44c881ae8da4fa9ab26f290ac571d45",
      "3f2d6682c05345a2bc30004e526c42ef",
      "15ab4e9ca37a4eefa99e77ffcb1059bd",
      "684ab7fbc77a4244b8a358d51d887964",
      "31ec641e2a6c4c1986107abfd9eb9938",
      "788b9e04f0be45e9a0c75954d11ce01e",
      "3374579c5f084721bf9590bccfcc0d2c",
      "1cda77c518e344fbaf142b4cc687739d",
      "cca1182bc2f94e9cb0d58ae7c7388758",
      "ff60d445b444436880ee39338cc517f2",
      "8bf89290ffde4e5aa842e48059b3ded5",
      "0dabd65f218e4f1b8c18523620214fc4",
      "97edb50c69024126ab87a4722923beed",
      "43856d21ccac4ca996083eba7b9888da",
      "1afd5d5f1556473f8789f14107d5c5d9",
      "9ae50ac1aef1400ebb661ffbc6e19ca3",
      "d80b030b0cf1403787ee499c8f87deac",
      "643b1b8752d943e4a8e6627fbc3f5e2a",
      "a107ae8556eb457da4931b04a5aa6acb",
      "c3dc065557204002ab327ef51eea1d7b",
      "e57ffe000233412b9f17ac5edf92e976",
      "86e6a5f5be744782a709e933b18c37f1",
      "250e75d9ac0e47ed8a2c6eaecfc9f339",
      "58cdfce4751e4cd6b4db2dc3b2830726",
      "33c36843351b4102a1fc258ee900ffcd",
      "3e16b182e22d476ead30a3836d0e3c6f",
      "64707aa93c064678802fb5ce32c81e8e",
      "850002b23ee8400e8db0a0aa9f9fbd49",
      "34e7e8c9525b48cc9d64c58653769a0c",
      "0bbae1ab9f4f4d4393ffd25adcba6e58",
      "b19bac9672c14df592b57ac3cf6007e1",
      "300e1a8d9ce542eb8b79546aa777e8b4",
      "76e15c2eb5b14a80a3c1a8d84f9de96a",
      "aa667da5ed82403cbc4136bd49946fbd",
      "36b45b6dc10f4973aab7459ef434f344",
      "56942c83b4524847a335927e82918d70",
      "0bd4903397d4442b9dd8fc16bb7ed6dd",
      "60c99bf6bd71402599b9d78ffefa38f5",
      "c6471a817f4948ddb4c160ee9f968163",
      "48fd63e8f6254196b740dbd48d4cdcda",
      "3d53f9844e9f4e94bb288db6d7ff0ada",
      "d53fb74d15b7474d8b9330e6eb1c19bf",
      "be90a49f56cb49c0a34e5103d04f66bc",
      "bf0d4fc0a19c490e84075bc2aeaeb9d5",
      "80a2788b5f77488f958ff69eb0020020",
      "a7bd7b31069b4e91afc1d467bccd0305",
      "219bd8094d8b462bb8decaa04dab934d",
      "a214d5fa8450461cbbf73589020b5ea0",
      "133a9a1ce1ee46b49aceb21a12408c40",
      "bc8deede7ed44f0b8d0a0ebf41e69f06",
      "564619c8a2e142fb96260d91c4735eda",
      "9e9bef5289214fc5882b0962ebc7c7eb",
      "c41d151e5a0a4deea1553dc17dc600c3",
      "1b281cf1379a4b9787cbbeff04815bf2",
      "1b6844e818f44a1689b3ba8d15ffac1e",
      "d9edd9f0b8064476980f6fcb16a80ba7",
      "3e47f194af5f417290a1a0a7dca0dea7",
      "3235f99121f347f793159f40c4696ca8",
      "6f269dcd7e4b44d0947da2e24cd3bd13",
      "13d9eed47d4f456ca6be994f9e14726a",
      "735596e4705f40d894e2e0b6f6055a57",
      "19ed50cea3b44fec95dd5a4472b24703",
      "09e4cdde8a3e4a29aebed501f690c9bb",
      "48f9292ff4184a4dbef3706f02429e94",
      "e6a1de8252b3444e8828dd47ccd3cd92",
      "979fa461519b498593ff422d964f3003",
      "024a8c7ec3dd40a2a0661f85e6b7bea6",
      "de01d1801e0b458888f7d28d228d5350",
      "add6db7e771847f0b95a404c7fa67c20",
      "1f78730f70584725978891185b5e4609",
      "cabd6f00d8dc48b2b6d7317326da1a5e",
      "79d31522a8e64142a94a8c477022d3d8",
      "1d2cbc21ebde4cfdae7684df39a9987b",
      "6ee6562f4f074052bf6a966677a39990",
      "ceec2d22b7424d788d4795cc40d93e38"
     ]
    },
    "id": "MPwMff5KDYSV",
    "outputId": "9aed0936-4303-402c-bfdb-3ec2046658c6"
   },
   "outputs": [],
   "source": [
    "test_dataset = load_dataset(\"glue\", \"sst2\", split=\"validation\",batch_size=32)"
   ]
  },
  {
   "cell_type": "code",
   "execution_count": null,
   "metadata": {
    "id": "89VY9A5c_-PK"
   },
   "outputs": [],
   "source": [
    "original_results = benchmark_model(model,tokenizer,test_dataset)"
   ]
  },
  {
   "cell_type": "code",
   "execution_count": null,
   "metadata": {
    "id": "xUOp_iPC-E2X"
   },
   "outputs": [],
   "source": [
    "quantized_results = benchmark_model(quantized_model,tokenizer,test_dataset)"
   ]
  },
  {
   "cell_type": "code",
   "execution_count": 10,
   "metadata": {
    "id": "ay51b0rzDi1B"
   },
   "outputs": [],
   "source": [
    "metrics = ['accuracy', 'precision', 'recall', 'f1', 'avg_inference_time']\n",
    "#if you want carbon emissions uncomment the following\n",
    "metrics.append('avg_carbon_emissions')"
   ]
  },
  {
   "cell_type": "code",
   "execution_count": 11,
   "metadata": {
    "id": "dftkASdrDqIV"
   },
   "outputs": [],
   "source": [
    "original_values = [original_results[m] for m in metrics]\n",
    "quantized_values = [quantized_results[m] for m in metrics]"
   ]
  },
  {
   "cell_type": "code",
   "execution_count": 12,
   "metadata": {
    "id": "-jLEDg0oDyAR"
   },
   "outputs": [],
   "source": [
    "# Save both models\n",
    "torch.save(model.state_dict(), \"original_model.pt\")\n",
    "torch.save(quantized_model.state_dict(), \"quantized_model.pt\")\n",
    "\n",
    "original_model_size =  os.path.getsize(\"original_model.pt\") / 1e6\n",
    "quantized_model_size = os.path.getsize(\"quantized_model.pt\") / 1e6"
   ]
  },
  {
   "cell_type": "code",
   "execution_count": 13,
   "metadata": {
    "id": "JWSGbjJbEBef"
   },
   "outputs": [],
   "source": [
    "original_values.append(original_model_size)\n",
    "quantized_values.append(quantized_model_size)\n",
    "metrics.append(\"model size\")"
   ]
  },
  {
   "cell_type": "code",
   "execution_count": 16,
   "metadata": {
    "id": "FzmpG6OOEHt9"
   },
   "outputs": [],
   "source": [
    "df = pd.DataFrame({\n",
    "    'Metric': metrics,\n",
    "    'Original Model': original_values,\n",
    "    'Quantized Model': quantized_values\n",
    "})"
   ]
  },
  {
   "cell_type": "markdown",
   "metadata": {
    "id": "6wYXxuQjFaaL"
   },
   "source": [
    "# Comparaison"
   ]
  },
  {
   "cell_type": "code",
   "execution_count": 17,
   "metadata": {
    "colab": {
     "base_uri": "https://localhost:8080/",
     "height": 269
    },
    "id": "fpwVsdIdEKyi",
    "outputId": "c26b2197-b8c4-4885-cdeb-36cf843d087b"
   },
   "outputs": [
    {
     "data": {
      "application/vnd.google.colaboratory.intrinsic+json": {
       "summary": "{\n  \"name\": \"df\",\n  \"rows\": 7,\n  \"fields\": [\n    {\n      \"column\": \"Metric\",\n      \"properties\": {\n        \"dtype\": \"string\",\n        \"num_unique_values\": 7,\n        \"samples\": [\n          \"accuracy\",\n          \"precision\",\n          \"avg_carbon_emissions\"\n        ],\n        \"semantic_type\": \"\",\n        \"description\": \"\"\n      }\n    },\n    {\n      \"column\": \"Original Model\",\n      \"properties\": {\n        \"dtype\": \"number\",\n        \"std\": 100.81587838648525,\n        \"min\": 1.3031744565911689e-05,\n        \"max\": 267.860822,\n        \"num_unique_values\": 6,\n        \"samples\": [\n          0.9105504587155964,\n          0.9110446090751722,\n          267.860822\n        ],\n        \"semantic_type\": \"\",\n        \"description\": \"\"\n      }\n    },\n    {\n      \"column\": \"Quantized Model\",\n      \"properties\": {\n        \"dtype\": \"number\",\n        \"std\": 52.04504523873049,\n        \"min\": 8.40756178569658e-06,\n        \"max\": 138.715658,\n        \"num_unique_values\": 6,\n        \"samples\": [\n          0.8979357798165137,\n          0.8987724440521125,\n          138.715658\n        ],\n        \"semantic_type\": \"\",\n        \"description\": \"\"\n      }\n    }\n  ]\n}",
       "type": "dataframe",
       "variable_name": "df"
      },
      "text/html": [
       "\n",
       "  <div id=\"df-39ceb286-d037-4e58-8427-422fa799417d\" class=\"colab-df-container\">\n",
       "    <div>\n",
       "<style scoped>\n",
       "    .dataframe tbody tr th:only-of-type {\n",
       "        vertical-align: middle;\n",
       "    }\n",
       "\n",
       "    .dataframe tbody tr th {\n",
       "        vertical-align: top;\n",
       "    }\n",
       "\n",
       "    .dataframe thead th {\n",
       "        text-align: right;\n",
       "    }\n",
       "</style>\n",
       "<table border=\"1\" class=\"dataframe\">\n",
       "  <thead>\n",
       "    <tr style=\"text-align: right;\">\n",
       "      <th></th>\n",
       "      <th>Metric</th>\n",
       "      <th>Original Model</th>\n",
       "      <th>Quantized Model</th>\n",
       "    </tr>\n",
       "  </thead>\n",
       "  <tbody>\n",
       "    <tr>\n",
       "      <th>0</th>\n",
       "      <td>accuracy</td>\n",
       "      <td>0.910550</td>\n",
       "      <td>0.897936</td>\n",
       "    </tr>\n",
       "    <tr>\n",
       "      <th>1</th>\n",
       "      <td>precision</td>\n",
       "      <td>0.911045</td>\n",
       "      <td>0.898772</td>\n",
       "    </tr>\n",
       "    <tr>\n",
       "      <th>2</th>\n",
       "      <td>recall</td>\n",
       "      <td>0.910550</td>\n",
       "      <td>0.897936</td>\n",
       "    </tr>\n",
       "    <tr>\n",
       "      <th>3</th>\n",
       "      <td>f1</td>\n",
       "      <td>0.910490</td>\n",
       "      <td>0.897831</td>\n",
       "    </tr>\n",
       "    <tr>\n",
       "      <th>4</th>\n",
       "      <td>avg_inference_time</td>\n",
       "      <td>3.195060</td>\n",
       "      <td>2.603668</td>\n",
       "    </tr>\n",
       "    <tr>\n",
       "      <th>5</th>\n",
       "      <td>avg_carbon_emissions</td>\n",
       "      <td>0.000013</td>\n",
       "      <td>0.000008</td>\n",
       "    </tr>\n",
       "    <tr>\n",
       "      <th>6</th>\n",
       "      <td>model size</td>\n",
       "      <td>267.860822</td>\n",
       "      <td>138.715658</td>\n",
       "    </tr>\n",
       "  </tbody>\n",
       "</table>\n",
       "</div>\n",
       "    <div class=\"colab-df-buttons\">\n",
       "\n",
       "  <div class=\"colab-df-container\">\n",
       "    <button class=\"colab-df-convert\" onclick=\"convertToInteractive('df-39ceb286-d037-4e58-8427-422fa799417d')\"\n",
       "            title=\"Convert this dataframe to an interactive table.\"\n",
       "            style=\"display:none;\">\n",
       "\n",
       "  <svg xmlns=\"http://www.w3.org/2000/svg\" height=\"24px\" viewBox=\"0 -960 960 960\">\n",
       "    <path d=\"M120-120v-720h720v720H120Zm60-500h600v-160H180v160Zm220 220h160v-160H400v160Zm0 220h160v-160H400v160ZM180-400h160v-160H180v160Zm440 0h160v-160H620v160ZM180-180h160v-160H180v160Zm440 0h160v-160H620v160Z\"/>\n",
       "  </svg>\n",
       "    </button>\n",
       "\n",
       "  <style>\n",
       "    .colab-df-container {\n",
       "      display:flex;\n",
       "      gap: 12px;\n",
       "    }\n",
       "\n",
       "    .colab-df-convert {\n",
       "      background-color: #E8F0FE;\n",
       "      border: none;\n",
       "      border-radius: 50%;\n",
       "      cursor: pointer;\n",
       "      display: none;\n",
       "      fill: #1967D2;\n",
       "      height: 32px;\n",
       "      padding: 0 0 0 0;\n",
       "      width: 32px;\n",
       "    }\n",
       "\n",
       "    .colab-df-convert:hover {\n",
       "      background-color: #E2EBFA;\n",
       "      box-shadow: 0px 1px 2px rgba(60, 64, 67, 0.3), 0px 1px 3px 1px rgba(60, 64, 67, 0.15);\n",
       "      fill: #174EA6;\n",
       "    }\n",
       "\n",
       "    .colab-df-buttons div {\n",
       "      margin-bottom: 4px;\n",
       "    }\n",
       "\n",
       "    [theme=dark] .colab-df-convert {\n",
       "      background-color: #3B4455;\n",
       "      fill: #D2E3FC;\n",
       "    }\n",
       "\n",
       "    [theme=dark] .colab-df-convert:hover {\n",
       "      background-color: #434B5C;\n",
       "      box-shadow: 0px 1px 3px 1px rgba(0, 0, 0, 0.15);\n",
       "      filter: drop-shadow(0px 1px 2px rgba(0, 0, 0, 0.3));\n",
       "      fill: #FFFFFF;\n",
       "    }\n",
       "  </style>\n",
       "\n",
       "    <script>\n",
       "      const buttonEl =\n",
       "        document.querySelector('#df-39ceb286-d037-4e58-8427-422fa799417d button.colab-df-convert');\n",
       "      buttonEl.style.display =\n",
       "        google.colab.kernel.accessAllowed ? 'block' : 'none';\n",
       "\n",
       "      async function convertToInteractive(key) {\n",
       "        const element = document.querySelector('#df-39ceb286-d037-4e58-8427-422fa799417d');\n",
       "        const dataTable =\n",
       "          await google.colab.kernel.invokeFunction('convertToInteractive',\n",
       "                                                    [key], {});\n",
       "        if (!dataTable) return;\n",
       "\n",
       "        const docLinkHtml = 'Like what you see? Visit the ' +\n",
       "          '<a target=\"_blank\" href=https://colab.research.google.com/notebooks/data_table.ipynb>data table notebook</a>'\n",
       "          + ' to learn more about interactive tables.';\n",
       "        element.innerHTML = '';\n",
       "        dataTable['output_type'] = 'display_data';\n",
       "        await google.colab.output.renderOutput(dataTable, element);\n",
       "        const docLink = document.createElement('div');\n",
       "        docLink.innerHTML = docLinkHtml;\n",
       "        element.appendChild(docLink);\n",
       "      }\n",
       "    </script>\n",
       "  </div>\n",
       "\n",
       "\n",
       "<div id=\"df-b7bc4355-4cc5-4874-b33c-b0f025b2c1ef\">\n",
       "  <button class=\"colab-df-quickchart\" onclick=\"quickchart('df-b7bc4355-4cc5-4874-b33c-b0f025b2c1ef')\"\n",
       "            title=\"Suggest charts\"\n",
       "            style=\"display:none;\">\n",
       "\n",
       "<svg xmlns=\"http://www.w3.org/2000/svg\" height=\"24px\"viewBox=\"0 0 24 24\"\n",
       "     width=\"24px\">\n",
       "    <g>\n",
       "        <path d=\"M19 3H5c-1.1 0-2 .9-2 2v14c0 1.1.9 2 2 2h14c1.1 0 2-.9 2-2V5c0-1.1-.9-2-2-2zM9 17H7v-7h2v7zm4 0h-2V7h2v10zm4 0h-2v-4h2v4z\"/>\n",
       "    </g>\n",
       "</svg>\n",
       "  </button>\n",
       "\n",
       "<style>\n",
       "  .colab-df-quickchart {\n",
       "      --bg-color: #E8F0FE;\n",
       "      --fill-color: #1967D2;\n",
       "      --hover-bg-color: #E2EBFA;\n",
       "      --hover-fill-color: #174EA6;\n",
       "      --disabled-fill-color: #AAA;\n",
       "      --disabled-bg-color: #DDD;\n",
       "  }\n",
       "\n",
       "  [theme=dark] .colab-df-quickchart {\n",
       "      --bg-color: #3B4455;\n",
       "      --fill-color: #D2E3FC;\n",
       "      --hover-bg-color: #434B5C;\n",
       "      --hover-fill-color: #FFFFFF;\n",
       "      --disabled-bg-color: #3B4455;\n",
       "      --disabled-fill-color: #666;\n",
       "  }\n",
       "\n",
       "  .colab-df-quickchart {\n",
       "    background-color: var(--bg-color);\n",
       "    border: none;\n",
       "    border-radius: 50%;\n",
       "    cursor: pointer;\n",
       "    display: none;\n",
       "    fill: var(--fill-color);\n",
       "    height: 32px;\n",
       "    padding: 0;\n",
       "    width: 32px;\n",
       "  }\n",
       "\n",
       "  .colab-df-quickchart:hover {\n",
       "    background-color: var(--hover-bg-color);\n",
       "    box-shadow: 0 1px 2px rgba(60, 64, 67, 0.3), 0 1px 3px 1px rgba(60, 64, 67, 0.15);\n",
       "    fill: var(--button-hover-fill-color);\n",
       "  }\n",
       "\n",
       "  .colab-df-quickchart-complete:disabled,\n",
       "  .colab-df-quickchart-complete:disabled:hover {\n",
       "    background-color: var(--disabled-bg-color);\n",
       "    fill: var(--disabled-fill-color);\n",
       "    box-shadow: none;\n",
       "  }\n",
       "\n",
       "  .colab-df-spinner {\n",
       "    border: 2px solid var(--fill-color);\n",
       "    border-color: transparent;\n",
       "    border-bottom-color: var(--fill-color);\n",
       "    animation:\n",
       "      spin 1s steps(1) infinite;\n",
       "  }\n",
       "\n",
       "  @keyframes spin {\n",
       "    0% {\n",
       "      border-color: transparent;\n",
       "      border-bottom-color: var(--fill-color);\n",
       "      border-left-color: var(--fill-color);\n",
       "    }\n",
       "    20% {\n",
       "      border-color: transparent;\n",
       "      border-left-color: var(--fill-color);\n",
       "      border-top-color: var(--fill-color);\n",
       "    }\n",
       "    30% {\n",
       "      border-color: transparent;\n",
       "      border-left-color: var(--fill-color);\n",
       "      border-top-color: var(--fill-color);\n",
       "      border-right-color: var(--fill-color);\n",
       "    }\n",
       "    40% {\n",
       "      border-color: transparent;\n",
       "      border-right-color: var(--fill-color);\n",
       "      border-top-color: var(--fill-color);\n",
       "    }\n",
       "    60% {\n",
       "      border-color: transparent;\n",
       "      border-right-color: var(--fill-color);\n",
       "    }\n",
       "    80% {\n",
       "      border-color: transparent;\n",
       "      border-right-color: var(--fill-color);\n",
       "      border-bottom-color: var(--fill-color);\n",
       "    }\n",
       "    90% {\n",
       "      border-color: transparent;\n",
       "      border-bottom-color: var(--fill-color);\n",
       "    }\n",
       "  }\n",
       "</style>\n",
       "\n",
       "  <script>\n",
       "    async function quickchart(key) {\n",
       "      const quickchartButtonEl =\n",
       "        document.querySelector('#' + key + ' button');\n",
       "      quickchartButtonEl.disabled = true;  // To prevent multiple clicks.\n",
       "      quickchartButtonEl.classList.add('colab-df-spinner');\n",
       "      try {\n",
       "        const charts = await google.colab.kernel.invokeFunction(\n",
       "            'suggestCharts', [key], {});\n",
       "      } catch (error) {\n",
       "        console.error('Error during call to suggestCharts:', error);\n",
       "      }\n",
       "      quickchartButtonEl.classList.remove('colab-df-spinner');\n",
       "      quickchartButtonEl.classList.add('colab-df-quickchart-complete');\n",
       "    }\n",
       "    (() => {\n",
       "      let quickchartButtonEl =\n",
       "        document.querySelector('#df-b7bc4355-4cc5-4874-b33c-b0f025b2c1ef button');\n",
       "      quickchartButtonEl.style.display =\n",
       "        google.colab.kernel.accessAllowed ? 'block' : 'none';\n",
       "    })();\n",
       "  </script>\n",
       "</div>\n",
       "\n",
       "    </div>\n",
       "  </div>\n"
      ],
      "text/plain": [
       "                 Metric  Original Model  Quantized Model\n",
       "0              accuracy        0.910550         0.897936\n",
       "1             precision        0.911045         0.898772\n",
       "2                recall        0.910550         0.897936\n",
       "3                    f1        0.910490         0.897831\n",
       "4    avg_inference_time        3.195060         2.603668\n",
       "5  avg_carbon_emissions        0.000013         0.000008\n",
       "6            model size      267.860822       138.715658"
      ]
     },
     "execution_count": 17,
     "metadata": {},
     "output_type": "execute_result"
    }
   ],
   "source": [
    "df.head(7)"
   ]
  },
  {
   "cell_type": "code",
   "execution_count": 18,
   "metadata": {
    "id": "NRRhhc4uGK2H"
   },
   "outputs": [],
   "source": [
    "def plot_model_comparison(df):\n",
    "    \"\"\"\n",
    "    Function that displays 4 charts comparing the original model and the quantized model:\n",
    "    1. Comparison of performance metrics (accuracy, precision, recall, f1)\n",
    "    2. Comparison of model size\n",
    "    3. Comparison of inference time\n",
    "    4. Comparison of CO2 emissions\n",
    "\n",
    "    Args:\n",
    "        df: DataFrame containing the metrics of the models\n",
    "    \"\"\"\n",
    "\n",
    "    fig, axes = plt.subplots(2, 2, figsize=(14, 10))\n",
    "    fig.suptitle('Comparison between Original Model and Quantized Model', fontsize=16)\n",
    "\n",
    "\n",
    "    colors = ['#3498db', '#e74c3c']  # Blue for original, Red for quantized\n",
    "\n",
    "    # 1. Chart to compare performance metrics\n",
    "    performance_metrics = ['accuracy', 'precision', 'recall', 'f1']\n",
    "    values_original = df.loc[df.index.isin(range(4)), 'Original Model'].values\n",
    "    values_quantized = df.loc[df.index.isin(range(4)), 'Quantized Model'].values\n",
    "\n",
    "    x = np.arange(len(performance_metrics))\n",
    "    width = 0.35\n",
    "\n",
    "    axes[0, 0].bar(x - width/2, values_original, width, color=colors[0], label='Original Model')\n",
    "    axes[0, 0].bar(x + width/2, values_quantized, width, color=colors[1], label='Quantized Model')\n",
    "    axes[0, 0].set_title('Performance Metrics')\n",
    "    axes[0, 0].set_xticks(x)\n",
    "    axes[0, 0].set_xticklabels(performance_metrics)\n",
    "    axes[0, 0].legend()\n",
    "    axes[0, 0].grid(axis='y', linestyle='--', alpha=0.7)\n",
    "\n",
    "    # 2. Chart to compare model size\n",
    "    sizes = [df.loc[6, 'Original Model'], df.loc[6, 'Quantized Model']]\n",
    "    models = ['Original Model', 'Quantized Model']\n",
    "\n",
    "    axes[0, 1].bar(models, sizes, color=colors)\n",
    "    axes[0, 1].set_title('Model Size (MB)')\n",
    "    axes[0, 1].set_ylabel('Size (MB)')\n",
    "    for i, v in enumerate(sizes):\n",
    "        axes[0, 1].text(i, v + 5, f\"{v:.2f} MB\", ha='center')\n",
    "    axes[0, 1].grid(axis='y', linestyle='--', alpha=0.7)\n",
    "\n",
    "    # 3. Chart to compare inference time\n",
    "    inference_times = [df.loc[4, 'Original Model'], df.loc[4, 'Quantized Model']]\n",
    "\n",
    "    axes[1, 0].bar(models, inference_times, color=colors)\n",
    "    axes[1, 0].set_title('Average Inference Time')\n",
    "    axes[1, 0].set_ylabel('Time (seconds)')\n",
    "    for i, v in enumerate(inference_times):\n",
    "        axes[1, 0].text(i, v + 0.05, f\"{v:.4f} s\", ha='center')\n",
    "    axes[1, 0].grid(axis='y', linestyle='--', alpha=0.7)\n",
    "\n",
    "    # 4. Chart to compare CO2 emissions\n",
    "    emissions = [df.loc[5, 'Original Model'], df.loc[5, 'Quantized Model']]\n",
    "\n",
    "    axes[1, 1].bar(models, emissions, color=colors)\n",
    "    axes[1, 1].set_title('Average CO2 Emissions')\n",
    "    axes[1, 1].set_ylabel('Emissions (kg)')\n",
    "    for i, v in enumerate(emissions):\n",
    "        axes[1, 1].text(i, v + 0.0000005, f\"{v:.8f} kg\", ha='center')\n",
    "    axes[1, 1].grid(axis='y', linestyle='--', alpha=0.7)\n",
    "\n",
    "    plt.tight_layout(rect=[0, 0, 1, 0.95])\n",
    "    plt.show()\n"
   ]
  },
  {
   "cell_type": "code",
   "execution_count": 19,
   "metadata": {
    "colab": {
     "base_uri": "https://localhost:8080/",
     "height": 1000
    },
    "id": "U6QRqySrIuLc",
    "outputId": "eda36337-875d-43e7-8395-d82ae37c9409"
   },
   "outputs": [
    {
     "data": {
      "image/png": "[encoded data removed]",
      "text/plain": [
       "<Figure size 1400x1000 with 4 Axes>"
      ]
     },
     "metadata": {},
     "output_type": "display_data"
    }
   ],
   "source": [
    "plot_model_comparison(df)"
   ]
  },
  {
   "cell_type": "markdown",
   "metadata": {
    "id": "AsR-LNWQ4-tL"
   },
   "source": [
    "#"
   ]
  },
  {
   "cell_type": "code",
   "execution_count": 23,
   "metadata": {
    "colab": {
     "base_uri": "https://localhost:8080/"
    },
    "id": "CfZzIwimWyf0",
    "outputId": "c2a1c126-86f1-4eb5-826c-e3b6aa858579"
   },
   "outputs": [
    {
     "name": "stdout",
     "output_type": "stream",
     "text": [
      "--- Example 1 ---\n",
      "Text         : if the movie succeeds in instilling a wary sense of ` there but for the grace of god , ' it is far too self-conscious to draw you deeply into its world . \n",
      "True Label   : 0\n",
      "Quantized Prediction: 1\n",
      "Original Prediction : 0\n",
      "\n",
      "--- Example 2 ---\n",
      "Text         : it 's one pussy-ass world when even killer-thrillers revolve around group therapy sessions . \n",
      "True Label   : 0\n",
      "Quantized Prediction: 1\n",
      "Original Prediction : 0\n",
      "\n",
      "--- Example 3 ---\n",
      "Text         : delivers the same old same old , tarted up with latin flava and turned out by hollywood playas . \n",
      "True Label   : 0\n",
      "Quantized Prediction: 1\n",
      "Original Prediction : 0\n",
      "\n",
      "--- Example 4 ---\n",
      "Text         : the format gets used best ... to capture the dizzying heights achieved by motocross and bmx riders , whose balletic hotdogging occasionally ends in bone-crushing screwups . \n",
      "True Label   : 1\n",
      "Quantized Prediction: 0\n",
      "Original Prediction : 1\n",
      "\n",
      "--- Example 5 ---\n",
      "Text         : all that 's missing is the spontaneity , originality and delight . \n",
      "True Label   : 0\n",
      "Quantized Prediction: 1\n",
      "Original Prediction : 0\n",
      "\n"
     ]
    }
   ],
   "source": [
    "def show_quantization_errors(model_orig, model_quant, tokenizer, dataset, n=5):\n",
    "\n",
    "    model_orig.eval()\n",
    "    model_quant.eval()\n",
    "\n",
    "    errors = []\n",
    "    for sample in dataset:\n",
    "        text = sample[\"sentence\"]\n",
    "        true_label = sample[\"label\"]\n",
    "\n",
    "        inputs = tokenizer(text, return_tensors=\"pt\")\n",
    "\n",
    "        with torch.no_grad():\n",
    "            pred_orig = torch.argmax(F.softmax(model_orig(**inputs).logits, dim=1), dim=1).item()\n",
    "            pred_quant = torch.argmax(F.softmax(model_quant(**inputs).logits, dim=1), dim=1).item()\n",
    "\n",
    "        if pred_orig == true_label and pred_quant != true_label:\n",
    "            errors.append({\n",
    "                \"text\": text,\n",
    "                \"true_label\": true_label,\n",
    "                \"quant_pred\": pred_quant,\n",
    "                \"orig_pred\": pred_orig\n",
    "            })\n",
    "\n",
    "        if len(errors) >= n:\n",
    "            break\n",
    "\n",
    "    for i, err in enumerate(errors):\n",
    "        print(f\"--- Example {i+1} ---\")\n",
    "        print(f\"Text         : {err['text']}\")\n",
    "        print(f\"True Label   : {err['true_label']}\")\n",
    "        print(f\"Quantized Prediction: {err['quant_pred']}\")\n",
    "        print(f\"Original Prediction : {err['orig_pred']}\")\n",
    "        print()\n",
    "\n",
    "\n",
    "show_quantization_errors(model, quantized_model, tokenizer, test_dataset)\n"
   ]
  },
  {
   "cell_type": "markdown",
   "metadata": {
    "id": "SQNtFT6B5soc"
   },
   "source": [
    "The quantized model significantly reduces model size (≈48% smaller) and inference time, while also lowering CO₂ emissions during execution. Despite these advantages, a slight drop in performance is observed, particularly in nuanced sentiment cases.\n",
    "\n",
    "🔍 Error Analysis Insights\n",
    "The following examples show where the quantized model misclassified the sentiment while the original model succeeded:\n",
    "\n",
    "The quantized model tends to misinterpret sarcasm or subtle negative expressions as positive.\n",
    "\n",
    "Complex sentence structures or ambiguous tones seem to be harder for the compressed model to handle.\n",
    "\n",
    "This suggests that quantization can affect the model's sensitivity to linguistic nuances, particularly in edge cases.\n",
    "\n",
    "➡️ Takeaway: Quantization offers great practical benefits, but depending on the application, especially in sentiment analysis, some interpretability and subtle semantic understanding may be lost."
   ]
  }
 ],
 "metadata": {
  "accelerator": "GPU",
  "colab": {
   "gpuType": "T4",
   "provenance": []
  },
  "kernelspec": {
   "display_name": "Python 3",
   "name": "python3"
  },
  "language_info": {
   "name": "python"
  }
 },
 "nbformat": 4,
 "nbformat_minor": 0
}
